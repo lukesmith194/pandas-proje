{
 "cells": [
  {
   "cell_type": "code",
   "execution_count": 1,
   "id": "af952096",
   "metadata": {},
   "outputs": [],
   "source": [
    "import pandas as pd\n",
    "import numpy as np\n",
    "import seaborn as sns\n",
    "import matplotlib.pyplot as plt\n",
    "import re"
   ]
  },
  {
   "cell_type": "code",
   "execution_count": 2,
   "id": "9c59b89b",
   "metadata": {},
   "outputs": [],
   "source": [
    "sns.set_context(\"poster\")\n",
    "sns.set(rc={\"figure.figsize\": (12.,6.)})\n",
    "sns.set_style(\"whitegrid\")"
   ]
  },
  {
   "cell_type": "markdown",
   "id": "b81455db",
   "metadata": {},
   "source": [
    "## Hypothesis 1 : In Australia, men are more likely to be attacked by a shark while surfing then woman"
   ]
  },
  {
   "cell_type": "code",
   "execution_count": 3,
   "id": "88ebd005",
   "metadata": {},
   "outputs": [
    {
     "data": {
      "text/html": [
       "<div>\n",
       "<style scoped>\n",
       "    .dataframe tbody tr th:only-of-type {\n",
       "        vertical-align: middle;\n",
       "    }\n",
       "\n",
       "    .dataframe tbody tr th {\n",
       "        vertical-align: top;\n",
       "    }\n",
       "\n",
       "    .dataframe thead th {\n",
       "        text-align: right;\n",
       "    }\n",
       "</style>\n",
       "<table border=\"1\" class=\"dataframe\">\n",
       "  <thead>\n",
       "    <tr style=\"text-align: right;\">\n",
       "      <th></th>\n",
       "      <th>Date</th>\n",
       "      <th>Year</th>\n",
       "      <th>Type</th>\n",
       "      <th>Country</th>\n",
       "      <th>Area</th>\n",
       "      <th>Location</th>\n",
       "      <th>Activity</th>\n",
       "      <th>Sex</th>\n",
       "      <th>Age</th>\n",
       "      <th>Injury</th>\n",
       "      <th>Fatal(Y/N)</th>\n",
       "      <th>Time</th>\n",
       "      <th>Species</th>\n",
       "      <th>InvestigatororSource</th>\n",
       "    </tr>\n",
       "  </thead>\n",
       "  <tbody>\n",
       "    <tr>\n",
       "      <th>10</th>\n",
       "      <td>24-May-2018</td>\n",
       "      <td>2018</td>\n",
       "      <td>Provoked</td>\n",
       "      <td>AUSTRALIA</td>\n",
       "      <td>Queensland</td>\n",
       "      <td>Cairns Aquarium</td>\n",
       "      <td>unknown</td>\n",
       "      <td>M</td>\n",
       "      <td>32</td>\n",
       "      <td>Minor bite to hand by captive shark. PROVOKED ...</td>\n",
       "      <td>N</td>\n",
       "      <td>Morning</td>\n",
       "      <td>reef</td>\n",
       "      <td>ABC.net.au ,05/24/2018</td>\n",
       "    </tr>\n",
       "    <tr>\n",
       "      <th>21</th>\n",
       "      <td>25-Apr-2018</td>\n",
       "      <td>2018</td>\n",
       "      <td>Unprovoked</td>\n",
       "      <td>AUSTRALIA</td>\n",
       "      <td>Western Australia</td>\n",
       "      <td>Surfers Point, Prevelly</td>\n",
       "      <td>surfing</td>\n",
       "      <td>M</td>\n",
       "      <td>60</td>\n",
       "      <td>No injury, knocked off board by shark</td>\n",
       "      <td>N</td>\n",
       "      <td>09h30</td>\n",
       "      <td>other</td>\n",
       "      <td>B.Myatt, GSAF</td>\n",
       "    </tr>\n",
       "    <tr>\n",
       "      <th>36</th>\n",
       "      <td>14-Mar-2018</td>\n",
       "      <td>2018</td>\n",
       "      <td>Unprovoked</td>\n",
       "      <td>AUSTRALIA</td>\n",
       "      <td>Western Australia</td>\n",
       "      <td>Waterman's Bay</td>\n",
       "      <td>unknown</td>\n",
       "      <td>M</td>\n",
       "      <td>10</td>\n",
       "      <td>Minor injuries to legs</td>\n",
       "      <td>N</td>\n",
       "      <td>17h35</td>\n",
       "      <td>wobbegong</td>\n",
       "      <td>B. Myatt, GSAF</td>\n",
       "    </tr>\n",
       "    <tr>\n",
       "      <th>37</th>\n",
       "      <td>9-Mar-2018</td>\n",
       "      <td>2018</td>\n",
       "      <td>Unprovoked</td>\n",
       "      <td>AUSTRALIA</td>\n",
       "      <td>Victoria</td>\n",
       "      <td>Lorne</td>\n",
       "      <td>swimming</td>\n",
       "      <td>M</td>\n",
       "      <td>69</td>\n",
       "      <td>No injury, said to have been charged by sharks...</td>\n",
       "      <td>N</td>\n",
       "      <td>15h30</td>\n",
       "      <td>other</td>\n",
       "      <td>B. Myatt, GSAF</td>\n",
       "    </tr>\n",
       "    <tr>\n",
       "      <th>38</th>\n",
       "      <td>9-Mar-2018</td>\n",
       "      <td>2018</td>\n",
       "      <td>Unprovoked</td>\n",
       "      <td>AUSTRALIA</td>\n",
       "      <td>Victoria</td>\n",
       "      <td>Winkipop</td>\n",
       "      <td>surfing</td>\n",
       "      <td>M</td>\n",
       "      <td>18</td>\n",
       "      <td>Minor injury, ankle grazed</td>\n",
       "      <td>N</td>\n",
       "      <td>07h30</td>\n",
       "      <td>other</td>\n",
       "      <td>B. Myatt, GSAF</td>\n",
       "    </tr>\n",
       "    <tr>\n",
       "      <th>...</th>\n",
       "      <td>...</td>\n",
       "      <td>...</td>\n",
       "      <td>...</td>\n",
       "      <td>...</td>\n",
       "      <td>...</td>\n",
       "      <td>...</td>\n",
       "      <td>...</td>\n",
       "      <td>...</td>\n",
       "      <td>...</td>\n",
       "      <td>...</td>\n",
       "      <td>...</td>\n",
       "      <td>...</td>\n",
       "      <td>...</td>\n",
       "      <td>...</td>\n",
       "    </tr>\n",
       "    <tr>\n",
       "      <th>5375</th>\n",
       "      <td>26-Jan-1912</td>\n",
       "      <td>1912</td>\n",
       "      <td>Unprovoked</td>\n",
       "      <td>AUSTRALIA</td>\n",
       "      <td>New South Wales</td>\n",
       "      <td>Fig Tree Bridge, Lane Cove River, near Sydney</td>\n",
       "      <td>swimming</td>\n",
       "      <td>M</td>\n",
       "      <td>21</td>\n",
       "      <td>FATAL</td>\n",
       "      <td>Y</td>\n",
       "      <td>15h00</td>\n",
       "      <td>other</td>\n",
       "      <td>Argus (Melbourne) 1/27, 28, 29, 30/1912; G.P. ...</td>\n",
       "    </tr>\n",
       "    <tr>\n",
       "      <th>5498</th>\n",
       "      <td>26-Mar-1905</td>\n",
       "      <td>1905</td>\n",
       "      <td>Unprovoked</td>\n",
       "      <td>AUSTRALIA</td>\n",
       "      <td>New South Wales</td>\n",
       "      <td>Lismore</td>\n",
       "      <td>swimming</td>\n",
       "      <td>M</td>\n",
       "      <td>40</td>\n",
       "      <td>Righ thigh severely bitten</td>\n",
       "      <td>N</td>\n",
       "      <td>Morning</td>\n",
       "      <td>other</td>\n",
       "      <td>Adelaide Advertiser, 3/31/1905</td>\n",
       "    </tr>\n",
       "    <tr>\n",
       "      <th>5648</th>\n",
       "      <td>28-Nov-1894</td>\n",
       "      <td>1894</td>\n",
       "      <td>Unprovoked</td>\n",
       "      <td>AUSTRALIA</td>\n",
       "      <td>New South Wales</td>\n",
       "      <td>Newcastle</td>\n",
       "      <td>swimming</td>\n",
       "      <td>M</td>\n",
       "      <td>19</td>\n",
       "      <td>\"Lost his arm\"</td>\n",
       "      <td>N</td>\n",
       "      <td>Morning</td>\n",
       "      <td>other</td>\n",
       "      <td>Brisbane Courier, 1/7/1895, p.5</td>\n",
       "    </tr>\n",
       "    <tr>\n",
       "      <th>5684</th>\n",
       "      <td>02-Mar-1892</td>\n",
       "      <td>1892</td>\n",
       "      <td>Provoked</td>\n",
       "      <td>AUSTRALIA</td>\n",
       "      <td>New South Wales</td>\n",
       "      <td>Lake Macquarie</td>\n",
       "      <td>fishing</td>\n",
       "      <td>M</td>\n",
       "      <td>21</td>\n",
       "      <td>Lacerations to calf by netted shark PROVOKED I...</td>\n",
       "      <td>N</td>\n",
       "      <td>Night</td>\n",
       "      <td>other</td>\n",
       "      <td>The Argus, 3/4/1892</td>\n",
       "    </tr>\n",
       "    <tr>\n",
       "      <th>5814</th>\n",
       "      <td>25-Nov-1880</td>\n",
       "      <td>1880</td>\n",
       "      <td>Unprovoked</td>\n",
       "      <td>AUSTRALIA</td>\n",
       "      <td>Queensland</td>\n",
       "      <td>Petrie Bight, Brisbane River</td>\n",
       "      <td>swimming</td>\n",
       "      <td>M</td>\n",
       "      <td>12</td>\n",
       "      <td>Feet bitten, surgically amputated FATAL</td>\n",
       "      <td>Y</td>\n",
       "      <td>Afternoon</td>\n",
       "      <td>bull</td>\n",
       "      <td>Bucks County Gazette, 2/10/1881, Sunday Mail (...</td>\n",
       "    </tr>\n",
       "  </tbody>\n",
       "</table>\n",
       "<p>307 rows × 14 columns</p>\n",
       "</div>"
      ],
      "text/plain": [
       "             Date  Year        Type    Country               Area  \\\n",
       "10    24-May-2018  2018    Provoked  AUSTRALIA         Queensland   \n",
       "21    25-Apr-2018  2018  Unprovoked  AUSTRALIA  Western Australia   \n",
       "36    14-Mar-2018  2018  Unprovoked  AUSTRALIA  Western Australia   \n",
       "37     9-Mar-2018  2018  Unprovoked  AUSTRALIA           Victoria   \n",
       "38     9-Mar-2018  2018  Unprovoked  AUSTRALIA           Victoria   \n",
       "...           ...   ...         ...        ...                ...   \n",
       "5375  26-Jan-1912  1912  Unprovoked  AUSTRALIA    New South Wales   \n",
       "5498  26-Mar-1905  1905  Unprovoked  AUSTRALIA    New South Wales   \n",
       "5648  28-Nov-1894  1894  Unprovoked  AUSTRALIA    New South Wales   \n",
       "5684  02-Mar-1892  1892    Provoked  AUSTRALIA    New South Wales   \n",
       "5814  25-Nov-1880  1880  Unprovoked  AUSTRALIA         Queensland   \n",
       "\n",
       "                                            Location  Activity Sex Age  \\\n",
       "10                                   Cairns Aquarium   unknown   M  32   \n",
       "21                           Surfers Point, Prevelly   surfing   M  60   \n",
       "36                                    Waterman's Bay   unknown   M  10   \n",
       "37                                             Lorne  swimming   M  69   \n",
       "38                                          Winkipop   surfing   M  18   \n",
       "...                                              ...       ...  ..  ..   \n",
       "5375  Fig Tree Bridge, Lane Cove River, near Sydney   swimming   M  21   \n",
       "5498                                         Lismore  swimming   M  40   \n",
       "5648                                      Newcastle   swimming   M  19   \n",
       "5684                                  Lake Macquarie   fishing   M  21   \n",
       "5814                    Petrie Bight, Brisbane River  swimming   M  12   \n",
       "\n",
       "                                                 Injury Fatal(Y/N)       Time  \\\n",
       "10    Minor bite to hand by captive shark. PROVOKED ...          N    Morning   \n",
       "21                No injury, knocked off board by shark          N      09h30   \n",
       "36                               Minor injuries to legs          N      17h35   \n",
       "37    No injury, said to have been charged by sharks...          N      15h30   \n",
       "38                           Minor injury, ankle grazed          N      07h30   \n",
       "...                                                 ...        ...        ...   \n",
       "5375                                              FATAL          Y      15h00   \n",
       "5498                         Righ thigh severely bitten          N    Morning   \n",
       "5648                                     \"Lost his arm\"          N    Morning   \n",
       "5684  Lacerations to calf by netted shark PROVOKED I...          N      Night   \n",
       "5814            Feet bitten, surgically amputated FATAL          Y  Afternoon   \n",
       "\n",
       "        Species                               InvestigatororSource  \n",
       "10         reef                             ABC.net.au ,05/24/2018  \n",
       "21        other                                      B.Myatt, GSAF  \n",
       "36    wobbegong                                     B. Myatt, GSAF  \n",
       "37        other                                     B. Myatt, GSAF  \n",
       "38        other                                     B. Myatt, GSAF  \n",
       "...         ...                                                ...  \n",
       "5375      other  Argus (Melbourne) 1/27, 28, 29, 30/1912; G.P. ...  \n",
       "5498      other                     Adelaide Advertiser, 3/31/1905  \n",
       "5648      other                    Brisbane Courier, 1/7/1895, p.5  \n",
       "5684      other                                The Argus, 3/4/1892  \n",
       "5814       bull  Bucks County Gazette, 2/10/1881, Sunday Mail (...  \n",
       "\n",
       "[307 rows x 14 columns]"
      ]
     },
     "execution_count": 3,
     "metadata": {},
     "output_type": "execute_result"
    }
   ],
   "source": [
    "dfaus =pd.read_csv(\"data/M_W_in_Aus.csv\", encoding = \"ISO-8859-1\",index_col =0)\n",
    "dfaus"
   ]
  },
  {
   "cell_type": "code",
   "execution_count": 4,
   "id": "47f31ddf",
   "metadata": {},
   "outputs": [
    {
     "data": {
      "text/plain": [
       "M    277\n",
       "F     30\n",
       "Name: Sex, dtype: int64"
      ]
     },
     "execution_count": 4,
     "metadata": {},
     "output_type": "execute_result"
    }
   ],
   "source": [
    "count=dfaus[\"Sex\"].value_counts()\n",
    "count"
   ]
  },
  {
   "cell_type": "code",
   "execution_count": 5,
   "id": "b3f9afe8",
   "metadata": {},
   "outputs": [
    {
     "data": {
      "text/plain": [
       "<AxesSubplot:xlabel='Sex', ylabel='count'>"
      ]
     },
     "execution_count": 5,
     "metadata": {},
     "output_type": "execute_result"
    },
    {
     "data": {
      "image/png": "[encoded data removed]",
      "text/plain": [
       "<Figure size 864x432 with 1 Axes>"
      ]
     },
     "metadata": {},
     "output_type": "display_data"
    }
   ],
   "source": [
    "sns.countplot(x=dfaus.Sex, hue=dfaus.Activity,palette=\"mako\")\n"
   ]
  },
  {
   "cell_type": "markdown",
   "id": "8c36e501",
   "metadata": {},
   "source": [
    "\n",
    "Here from the small sample size we have be able to take from the original dataframe, \n",
    "we can see that only 5% of the attacks in Australia have be on women.\n",
    "Having done a value count of the whole dataframe we can see that this % is more or less correct as in general, only 7% of the \n",
    "attacks are on women.\n",
    "\n"
   ]
  },
  {
   "cell_type": "markdown",
   "id": "afcfd722",
   "metadata": {},
   "source": [
    "\n",
    "To be able to make a graph where it shows the attacks over time and the difference between males and females,\n",
    "first i had to create a new data set showing the count of attacks by year. With this dataframe i have the values of attacks\n",
    "per year by sex. Then i have cleaned the Activity column not only to see the difference by sex but to also be able to divide the activities where shark attacks are more common.\n"
   ]
  },
  {
   "cell_type": "code",
   "execution_count": 6,
   "id": "72fc5e76",
   "metadata": {},
   "outputs": [
    {
     "data": {
      "text/html": [
       "<div>\n",
       "<style scoped>\n",
       "    .dataframe tbody tr th:only-of-type {\n",
       "        vertical-align: middle;\n",
       "    }\n",
       "\n",
       "    .dataframe tbody tr th {\n",
       "        vertical-align: top;\n",
       "    }\n",
       "\n",
       "    .dataframe thead th {\n",
       "        text-align: right;\n",
       "    }\n",
       "</style>\n",
       "<table border=\"1\" class=\"dataframe\">\n",
       "  <thead>\n",
       "    <tr style=\"text-align: right;\">\n",
       "      <th></th>\n",
       "      <th>Year</th>\n",
       "      <th>Sex</th>\n",
       "    </tr>\n",
       "  </thead>\n",
       "  <tbody>\n",
       "    <tr>\n",
       "      <th>10</th>\n",
       "      <td>2018</td>\n",
       "      <td>M</td>\n",
       "    </tr>\n",
       "    <tr>\n",
       "      <th>21</th>\n",
       "      <td>2018</td>\n",
       "      <td>M</td>\n",
       "    </tr>\n",
       "    <tr>\n",
       "      <th>36</th>\n",
       "      <td>2018</td>\n",
       "      <td>M</td>\n",
       "    </tr>\n",
       "    <tr>\n",
       "      <th>37</th>\n",
       "      <td>2018</td>\n",
       "      <td>M</td>\n",
       "    </tr>\n",
       "    <tr>\n",
       "      <th>38</th>\n",
       "      <td>2018</td>\n",
       "      <td>M</td>\n",
       "    </tr>\n",
       "  </tbody>\n",
       "</table>\n",
       "</div>"
      ],
      "text/plain": [
       "    Year Sex\n",
       "10  2018   M\n",
       "21  2018   M\n",
       "36  2018   M\n",
       "37  2018   M\n",
       "38  2018   M"
      ]
     },
     "execution_count": 6,
     "metadata": {},
     "output_type": "execute_result"
    }
   ],
   "source": [
    "dff = dfaus[[\"Year\", \"Sex\"]]\n",
    "dff.head()"
   ]
  },
  {
   "cell_type": "code",
   "execution_count": 7,
   "id": "cac82097",
   "metadata": {},
   "outputs": [
    {
     "name": "stderr",
     "output_type": "stream",
     "text": [
      "/tmp/ipykernel_1366/3392935965.py:1: SettingWithCopyWarning: \n",
      "A value is trying to be set on a copy of a slice from a DataFrame.\n",
      "Try using .loc[row_indexer,col_indexer] = value instead\n",
      "\n",
      "See the caveats in the documentation: https://pandas.pydata.org/pandas-docs/stable/user_guide/indexing.html#returning-a-view-versus-a-copy\n",
      "  dff[\"year_sex\"] = dff[\"Sex\"].groupby(dff[\"Year\"]).transform(\"count\")\n"
     ]
    }
   ],
   "source": [
    "dff[\"year_sex\"] = dff[\"Sex\"].groupby(dff[\"Year\"]).transform(\"count\")"
   ]
  },
  {
   "cell_type": "code",
   "execution_count": 8,
   "id": "cb5532eb",
   "metadata": {},
   "outputs": [],
   "source": [
    "#type(dff)\n"
   ]
  },
  {
   "cell_type": "code",
   "execution_count": 9,
   "id": "5e807e2a",
   "metadata": {},
   "outputs": [
    {
     "name": "stderr",
     "output_type": "stream",
     "text": [
      "/home/lukesmith194/.local/lib/python3.8/site-packages/pandas/util/_decorators.py:311: SettingWithCopyWarning: \n",
      "A value is trying to be set on a copy of a slice from a DataFrame\n",
      "\n",
      "See the caveats in the documentation: https://pandas.pydata.org/pandas-docs/stable/user_guide/indexing.html#returning-a-view-versus-a-copy\n",
      "  return func(*args, **kwargs)\n"
     ]
    }
   ],
   "source": [
    "dff.drop_duplicates( inplace = True)"
   ]
  },
  {
   "cell_type": "code",
   "execution_count": 10,
   "id": "6474c1e9",
   "metadata": {},
   "outputs": [
    {
     "data": {
      "text/html": [
       "<div>\n",
       "<style scoped>\n",
       "    .dataframe tbody tr th:only-of-type {\n",
       "        vertical-align: middle;\n",
       "    }\n",
       "\n",
       "    .dataframe tbody tr th {\n",
       "        vertical-align: top;\n",
       "    }\n",
       "\n",
       "    .dataframe thead th {\n",
       "        text-align: right;\n",
       "    }\n",
       "</style>\n",
       "<table border=\"1\" class=\"dataframe\">\n",
       "  <thead>\n",
       "    <tr style=\"text-align: right;\">\n",
       "      <th></th>\n",
       "      <th>Year</th>\n",
       "      <th>Sex</th>\n",
       "      <th>year_sex</th>\n",
       "    </tr>\n",
       "  </thead>\n",
       "  <tbody>\n",
       "    <tr>\n",
       "      <th>10</th>\n",
       "      <td>2018</td>\n",
       "      <td>M</td>\n",
       "      <td>7</td>\n",
       "    </tr>\n",
       "    <tr>\n",
       "      <th>40</th>\n",
       "      <td>2018</td>\n",
       "      <td>F</td>\n",
       "      <td>7</td>\n",
       "    </tr>\n",
       "    <tr>\n",
       "      <th>63</th>\n",
       "      <td>2017</td>\n",
       "      <td>M</td>\n",
       "      <td>8</td>\n",
       "    </tr>\n",
       "    <tr>\n",
       "      <th>71</th>\n",
       "      <td>2017</td>\n",
       "      <td>F</td>\n",
       "      <td>8</td>\n",
       "    </tr>\n",
       "    <tr>\n",
       "      <th>196</th>\n",
       "      <td>2016</td>\n",
       "      <td>M</td>\n",
       "      <td>11</td>\n",
       "    </tr>\n",
       "  </tbody>\n",
       "</table>\n",
       "</div>"
      ],
      "text/plain": [
       "     Year Sex  year_sex\n",
       "10   2018   M         7\n",
       "40   2018   F         7\n",
       "63   2017   M         8\n",
       "71   2017   F         8\n",
       "196  2016   M        11"
      ]
     },
     "execution_count": 10,
     "metadata": {},
     "output_type": "execute_result"
    }
   ],
   "source": [
    "dff.head()"
   ]
  },
  {
   "cell_type": "code",
   "execution_count": 11,
   "id": "785e7eea",
   "metadata": {},
   "outputs": [
    {
     "data": {
      "text/plain": [
       "Year         int64\n",
       "Sex         object\n",
       "year_sex     int64\n",
       "dtype: object"
      ]
     },
     "execution_count": 11,
     "metadata": {},
     "output_type": "execute_result"
    }
   ],
   "source": [
    "dff.dtypes"
   ]
  },
  {
   "cell_type": "code",
   "execution_count": 12,
   "id": "2ab0670e",
   "metadata": {},
   "outputs": [
    {
     "name": "stderr",
     "output_type": "stream",
     "text": [
      "/tmp/ipykernel_1366/1460845437.py:1: SettingWithCopyWarning: \n",
      "A value is trying to be set on a copy of a slice from a DataFrame.\n",
      "Try using .loc[row_indexer,col_indexer] = value instead\n",
      "\n",
      "See the caveats in the documentation: https://pandas.pydata.org/pandas-docs/stable/user_guide/indexing.html#returning-a-view-versus-a-copy\n",
      "  dff[\"Year\"] = dff[\"Year\"].astype(int)\n"
     ]
    }
   ],
   "source": [
    "dff[\"Year\"] = dff[\"Year\"].astype(int)"
   ]
  },
  {
   "cell_type": "code",
   "execution_count": 13,
   "id": "5471f204",
   "metadata": {},
   "outputs": [
    {
     "data": {
      "text/html": [
       "<div>\n",
       "<style scoped>\n",
       "    .dataframe tbody tr th:only-of-type {\n",
       "        vertical-align: middle;\n",
       "    }\n",
       "\n",
       "    .dataframe tbody tr th {\n",
       "        vertical-align: top;\n",
       "    }\n",
       "\n",
       "    .dataframe thead th {\n",
       "        text-align: right;\n",
       "    }\n",
       "</style>\n",
       "<table border=\"1\" class=\"dataframe\">\n",
       "  <thead>\n",
       "    <tr style=\"text-align: right;\">\n",
       "      <th></th>\n",
       "      <th>Year</th>\n",
       "      <th>Sex</th>\n",
       "      <th>year_sex</th>\n",
       "    </tr>\n",
       "  </thead>\n",
       "  <tbody>\n",
       "    <tr>\n",
       "      <th>10</th>\n",
       "      <td>2018</td>\n",
       "      <td>M</td>\n",
       "      <td>7</td>\n",
       "    </tr>\n",
       "    <tr>\n",
       "      <th>40</th>\n",
       "      <td>2018</td>\n",
       "      <td>F</td>\n",
       "      <td>7</td>\n",
       "    </tr>\n",
       "    <tr>\n",
       "      <th>63</th>\n",
       "      <td>2017</td>\n",
       "      <td>M</td>\n",
       "      <td>8</td>\n",
       "    </tr>\n",
       "    <tr>\n",
       "      <th>71</th>\n",
       "      <td>2017</td>\n",
       "      <td>F</td>\n",
       "      <td>8</td>\n",
       "    </tr>\n",
       "    <tr>\n",
       "      <th>196</th>\n",
       "      <td>2016</td>\n",
       "      <td>M</td>\n",
       "      <td>11</td>\n",
       "    </tr>\n",
       "    <tr>\n",
       "      <th>...</th>\n",
       "      <td>...</td>\n",
       "      <td>...</td>\n",
       "      <td>...</td>\n",
       "    </tr>\n",
       "    <tr>\n",
       "      <th>5375</th>\n",
       "      <td>1912</td>\n",
       "      <td>M</td>\n",
       "      <td>1</td>\n",
       "    </tr>\n",
       "    <tr>\n",
       "      <th>5498</th>\n",
       "      <td>1905</td>\n",
       "      <td>M</td>\n",
       "      <td>1</td>\n",
       "    </tr>\n",
       "    <tr>\n",
       "      <th>5648</th>\n",
       "      <td>1894</td>\n",
       "      <td>M</td>\n",
       "      <td>1</td>\n",
       "    </tr>\n",
       "    <tr>\n",
       "      <th>5684</th>\n",
       "      <td>1892</td>\n",
       "      <td>M</td>\n",
       "      <td>1</td>\n",
       "    </tr>\n",
       "    <tr>\n",
       "      <th>5814</th>\n",
       "      <td>1880</td>\n",
       "      <td>M</td>\n",
       "      <td>1</td>\n",
       "    </tr>\n",
       "  </tbody>\n",
       "</table>\n",
       "<p>106 rows × 3 columns</p>\n",
       "</div>"
      ],
      "text/plain": [
       "      Year Sex  year_sex\n",
       "10    2018   M         7\n",
       "40    2018   F         7\n",
       "63    2017   M         8\n",
       "71    2017   F         8\n",
       "196   2016   M        11\n",
       "...    ...  ..       ...\n",
       "5375  1912   M         1\n",
       "5498  1905   M         1\n",
       "5648  1894   M         1\n",
       "5684  1892   M         1\n",
       "5814  1880   M         1\n",
       "\n",
       "[106 rows x 3 columns]"
      ]
     },
     "execution_count": 13,
     "metadata": {},
     "output_type": "execute_result"
    }
   ],
   "source": [
    "dff"
   ]
  },
  {
   "cell_type": "code",
   "execution_count": 14,
   "id": "42c9503e",
   "metadata": {},
   "outputs": [
    {
     "data": {
      "text/plain": [
       "<AxesSubplot:xlabel='Year', ylabel='year_sex'>"
      ]
     },
     "execution_count": 14,
     "metadata": {},
     "output_type": "execute_result"
    },
    {
     "data": {
      "image/png": "[encoded data removed]",
      "text/plain": [
       "<Figure size 864x432 with 1 Axes>"
      ]
     },
     "metadata": {},
     "output_type": "display_data"
    }
   ],
   "source": [
    "sns.lineplot(data=dff, x=\"Year\", y=\"year_sex\", hue = \"Sex\",palette=\"mako\")"
   ]
  },
  {
   "cell_type": "markdown",
   "id": "81bb5921",
   "metadata": {},
   "source": [
    "\n",
    "This linegraph is not optimal due to the lack of data, but we can see that until 2006 there was no data of women being attacked\n",
    "by sharks in Australia. The data for the males seems to be the same from 1960 until 1989 where there was a spike in the attacks.\n",
    "From 2006 onwards it seems like the data is more accurate as it shows a clearer pattern of attacks, for both men and women.\n"
   ]
  },
  {
   "cell_type": "markdown",
   "id": "e328d991",
   "metadata": {},
   "source": [
    "## Hypothesis 2: In the USA, the attacks are usually unprovoked by humans"
   ]
  },
  {
   "cell_type": "code",
   "execution_count": 15,
   "id": "2640e7a4",
   "metadata": {},
   "outputs": [],
   "source": [
    "df1us =pd.read_csv(\"data/unprovoked.csv\", encoding = \"ISO-8859-1\", index_col =0)\n"
   ]
  },
  {
   "cell_type": "code",
   "execution_count": 16,
   "id": "ed5f0b4c",
   "metadata": {},
   "outputs": [
    {
     "data": {
      "text/plain": [
       "N          1837\n",
       "Unknown     188\n",
       "Y           186\n",
       "UNKNOWN      18\n",
       "Name: Fatal (Y/N), dtype: int64"
      ]
     },
     "execution_count": 16,
     "metadata": {},
     "output_type": "execute_result"
    }
   ],
   "source": [
    "df1us[\"Fatal (Y/N)\"].value_counts()"
   ]
  },
  {
   "cell_type": "code",
   "execution_count": 17,
   "id": "9e17e2d2",
   "metadata": {},
   "outputs": [
    {
     "data": {
      "text/plain": [
       "Index(['Date', 'Year', 'Type', 'Country', 'Area', 'Location', 'Activity',\n",
       "       'Sex ', 'Age', 'Injury', 'Fatal (Y/N)', 'Time', 'Species '],\n",
       "      dtype='object')"
      ]
     },
     "execution_count": 17,
     "metadata": {},
     "output_type": "execute_result"
    }
   ],
   "source": [
    "df1us.columns"
   ]
  },
  {
   "cell_type": "code",
   "execution_count": 18,
   "id": "8db155c3",
   "metadata": {},
   "outputs": [
    {
     "data": {
      "text/plain": [
       "<AxesSubplot:xlabel='Type', ylabel='Count'>"
      ]
     },
     "execution_count": 18,
     "metadata": {},
     "output_type": "execute_result"
    },
    {
     "data": {
      "image/png": "[encoded data removed]",
      "text/plain": [
       "<Figure size 864x432 with 1 Axes>"
      ]
     },
     "metadata": {},
     "output_type": "display_data"
    }
   ],
   "source": [
    "sns.histplot(x=df1us.Type, bins =10, hue= df1us['Fatal (Y/N)'], multiple=\"dodge\",palette=\"mako\")"
   ]
  },
  {
   "cell_type": "markdown",
   "id": "a57d127a",
   "metadata": {},
   "source": [
    "\n",
    "From this data, we can clearly see that most attacks in the US are unprovoked. This chart also shows that the majority of the \n",
    "attacks that were fatal are also unprovoked. This is normal due to the difference in the ammount of data. The only type of attack\n",
    "where the the fatality is higher then the non-fatality rate is when a sea disaster occurs. This could also be because of the sea\n",
    "disaster not only from the shark attacks."
   ]
  },
  {
   "cell_type": "markdown",
   "id": "b26cd37d",
   "metadata": {},
   "source": [
    "## Hypothesis 3: Hawaii is the area in the US where most shark attacks occur"
   ]
  },
  {
   "cell_type": "code",
   "execution_count": 19,
   "id": "28d8b300",
   "metadata": {
    "scrolled": true
   },
   "outputs": [
    {
     "data": {
      "text/html": [
       "<div>\n",
       "<style scoped>\n",
       "    .dataframe tbody tr th:only-of-type {\n",
       "        vertical-align: middle;\n",
       "    }\n",
       "\n",
       "    .dataframe tbody tr th {\n",
       "        vertical-align: top;\n",
       "    }\n",
       "\n",
       "    .dataframe thead th {\n",
       "        text-align: right;\n",
       "    }\n",
       "</style>\n",
       "<table border=\"1\" class=\"dataframe\">\n",
       "  <thead>\n",
       "    <tr style=\"text-align: right;\">\n",
       "      <th></th>\n",
       "      <th>Date</th>\n",
       "      <th>Year</th>\n",
       "      <th>Type</th>\n",
       "      <th>Country</th>\n",
       "      <th>Area</th>\n",
       "      <th>Location</th>\n",
       "      <th>Activity</th>\n",
       "      <th>Sex</th>\n",
       "      <th>Age</th>\n",
       "      <th>Injury</th>\n",
       "      <th>Fatal (Y/N)</th>\n",
       "      <th>Time</th>\n",
       "      <th>Species</th>\n",
       "      <th>nueva</th>\n",
       "    </tr>\n",
       "  </thead>\n",
       "  <tbody>\n",
       "    <tr>\n",
       "      <th>5749</th>\n",
       "      <td>Mid-Aug-1886</td>\n",
       "      <td>1886.0</td>\n",
       "      <td>Boating</td>\n",
       "      <td>USA</td>\n",
       "      <td>New Jersey</td>\n",
       "      <td>Shrewsbury River, Highlands, Monmouth County</td>\n",
       "      <td>NaN</td>\n",
       "      <td>M</td>\n",
       "      <td>NaN</td>\n",
       "      <td>Shark attacked boat, shark killed &amp; towed to s...</td>\n",
       "      <td>N</td>\n",
       "      <td>NaN</td>\n",
       "      <td>Shark was said to Âhave a very rough Â½Â-thi...</td>\n",
       "      <td>Others</td>\n",
       "    </tr>\n",
       "    <tr>\n",
       "      <th>4620</th>\n",
       "      <td>06-Aug-1945</td>\n",
       "      <td>1945.0</td>\n",
       "      <td>Unprovoked</td>\n",
       "      <td>USA</td>\n",
       "      <td>North Carolina</td>\n",
       "      <td>Ocracoke</td>\n",
       "      <td>NaN</td>\n",
       "      <td>NaN</td>\n",
       "      <td>NaN</td>\n",
       "      <td>FATAL</td>\n",
       "      <td>Y</td>\n",
       "      <td>NaN</td>\n",
       "      <td>NaN</td>\n",
       "      <td>Others</td>\n",
       "    </tr>\n",
       "    <tr>\n",
       "      <th>1834</th>\n",
       "      <td>17-Aug-2002</td>\n",
       "      <td>2002.0</td>\n",
       "      <td>Unprovoked</td>\n",
       "      <td>USA</td>\n",
       "      <td>Alabama</td>\n",
       "      <td>Gulf of Mexico, 65 miles offshore from Mobile</td>\n",
       "      <td>Swimming</td>\n",
       "      <td>F</td>\n",
       "      <td>29</td>\n",
       "      <td>Both arms &amp; leg bitten</td>\n",
       "      <td>N</td>\n",
       "      <td>17h00</td>\n",
       "      <td>NaN</td>\n",
       "      <td>Alabama</td>\n",
       "    </tr>\n",
       "    <tr>\n",
       "      <th>2051</th>\n",
       "      <td>09-Jun-2000</td>\n",
       "      <td>2000.0</td>\n",
       "      <td>Unprovoked</td>\n",
       "      <td>USA</td>\n",
       "      <td>Alabama</td>\n",
       "      <td>Gulf Shores, Baldwin County</td>\n",
       "      <td>Swimming</td>\n",
       "      <td>M</td>\n",
       "      <td>44</td>\n",
       "      <td>Right forearm severed surgically amputated abo...</td>\n",
       "      <td>N</td>\n",
       "      <td>06h45</td>\n",
       "      <td>Bull shark</td>\n",
       "      <td>Alabama</td>\n",
       "    </tr>\n",
       "    <tr>\n",
       "      <th>5811</th>\n",
       "      <td>13-Jun-1881</td>\n",
       "      <td>1881.0</td>\n",
       "      <td>Unprovoked</td>\n",
       "      <td>USA</td>\n",
       "      <td>Alabama</td>\n",
       "      <td>Mobile Bay</td>\n",
       "      <td>Fell overboard</td>\n",
       "      <td>M</td>\n",
       "      <td>23</td>\n",
       "      <td>FATAL</td>\n",
       "      <td>Y</td>\n",
       "      <td>NaN</td>\n",
       "      <td>NaN</td>\n",
       "      <td>Alabama</td>\n",
       "    </tr>\n",
       "    <tr>\n",
       "      <th>...</th>\n",
       "      <td>...</td>\n",
       "      <td>...</td>\n",
       "      <td>...</td>\n",
       "      <td>...</td>\n",
       "      <td>...</td>\n",
       "      <td>...</td>\n",
       "      <td>...</td>\n",
       "      <td>...</td>\n",
       "      <td>...</td>\n",
       "      <td>...</td>\n",
       "      <td>...</td>\n",
       "      <td>...</td>\n",
       "      <td>...</td>\n",
       "      <td>...</td>\n",
       "    </tr>\n",
       "    <tr>\n",
       "      <th>2686</th>\n",
       "      <td>12-Apr-1989</td>\n",
       "      <td>1989.0</td>\n",
       "      <td>Unprovoked</td>\n",
       "      <td>USA</td>\n",
       "      <td>Washington</td>\n",
       "      <td>Pacific Beach, Grays Harbor County</td>\n",
       "      <td>Surfing (lying prone on his board)</td>\n",
       "      <td>M</td>\n",
       "      <td>NaN</td>\n",
       "      <td>Forearm bitten</td>\n",
       "      <td>N</td>\n",
       "      <td>10h45</td>\n",
       "      <td>White shark</td>\n",
       "      <td>Others</td>\n",
       "    </tr>\n",
       "    <tr>\n",
       "      <th>3496</th>\n",
       "      <td>14-Dec-1967</td>\n",
       "      <td>1967.0</td>\n",
       "      <td>Provoked</td>\n",
       "      <td>USA</td>\n",
       "      <td>Unknown</td>\n",
       "      <td>NaN</td>\n",
       "      <td>NaN</td>\n",
       "      <td>M</td>\n",
       "      <td>NaN</td>\n",
       "      <td>Head, shoulder, arm lacerated. Recorded as PRO...</td>\n",
       "      <td>N</td>\n",
       "      <td>NaN</td>\n",
       "      <td>NaN</td>\n",
       "      <td>Others</td>\n",
       "    </tr>\n",
       "    <tr>\n",
       "      <th>5514</th>\n",
       "      <td>1904</td>\n",
       "      <td>1904.0</td>\n",
       "      <td>Invalid</td>\n",
       "      <td>USA</td>\n",
       "      <td>Unknown</td>\n",
       "      <td>NaN</td>\n",
       "      <td>Diving on a wreck</td>\n",
       "      <td>M</td>\n",
       "      <td>NaN</td>\n",
       "      <td>Leg bitten</td>\n",
       "      <td>Unknown</td>\n",
       "      <td>NaN</td>\n",
       "      <td>Questionable</td>\n",
       "      <td>Others</td>\n",
       "    </tr>\n",
       "    <tr>\n",
       "      <th>6125</th>\n",
       "      <td>Aug-24-1806</td>\n",
       "      <td>1896.0</td>\n",
       "      <td>Sea Disaster</td>\n",
       "      <td>USA</td>\n",
       "      <td>Unknown</td>\n",
       "      <td>NaN</td>\n",
       "      <td>NaN</td>\n",
       "      <td>M</td>\n",
       "      <td>NaN</td>\n",
       "      <td>Shark scavenged on the dead sailors</td>\n",
       "      <td>Unknown</td>\n",
       "      <td>NaN</td>\n",
       "      <td>NaN</td>\n",
       "      <td>Others</td>\n",
       "    </tr>\n",
       "    <tr>\n",
       "      <th>6146</th>\n",
       "      <td>Reported 12-Jul-1771</td>\n",
       "      <td>1771.0</td>\n",
       "      <td>Unprovoked</td>\n",
       "      <td>USA</td>\n",
       "      <td>Unknown</td>\n",
       "      <td>Damiscotte</td>\n",
       "      <td>Fishing</td>\n",
       "      <td>M</td>\n",
       "      <td>NaN</td>\n",
       "      <td>FATAL</td>\n",
       "      <td>Y</td>\n",
       "      <td>NaN</td>\n",
       "      <td>NaN</td>\n",
       "      <td>Others</td>\n",
       "    </tr>\n",
       "  </tbody>\n",
       "</table>\n",
       "<p>2229 rows × 14 columns</p>\n",
       "</div>"
      ],
      "text/plain": [
       "                      Date    Year          Type Country             Area  \\\n",
       "5749          Mid-Aug-1886  1886.0       Boating     USA       New Jersey   \n",
       "4620           06-Aug-1945  1945.0    Unprovoked     USA   North Carolina   \n",
       "1834           17-Aug-2002  2002.0    Unprovoked     USA          Alabama   \n",
       "2051           09-Jun-2000  2000.0    Unprovoked     USA          Alabama   \n",
       "5811           13-Jun-1881  1881.0    Unprovoked     USA          Alabama   \n",
       "...                    ...     ...           ...     ...              ...   \n",
       "2686           12-Apr-1989  1989.0    Unprovoked     USA       Washington   \n",
       "3496           14-Dec-1967  1967.0      Provoked     USA          Unknown   \n",
       "5514                  1904  1904.0       Invalid     USA          Unknown   \n",
       "6125           Aug-24-1806  1896.0  Sea Disaster     USA          Unknown   \n",
       "6146  Reported 12-Jul-1771  1771.0    Unprovoked     USA          Unknown   \n",
       "\n",
       "                                           Location  \\\n",
       "5749   Shrewsbury River, Highlands, Monmouth County   \n",
       "4620                                       Ocracoke   \n",
       "1834  Gulf of Mexico, 65 miles offshore from Mobile   \n",
       "2051                    Gulf Shores, Baldwin County   \n",
       "5811                                     Mobile Bay   \n",
       "...                                             ...   \n",
       "2686             Pacific Beach, Grays Harbor County   \n",
       "3496                                            NaN   \n",
       "5514                                            NaN   \n",
       "6125                                            NaN   \n",
       "6146                                     Damiscotte   \n",
       "\n",
       "                                Activity Sex   Age  \\\n",
       "5749                                 NaN    M  NaN   \n",
       "4620                                 NaN  NaN  NaN   \n",
       "1834                            Swimming    F   29   \n",
       "2051                           Swimming     M   44   \n",
       "5811                      Fell overboard    M   23   \n",
       "...                                  ...  ...  ...   \n",
       "2686  Surfing (lying prone on his board)    M  NaN   \n",
       "3496                                 NaN    M  NaN   \n",
       "5514                   Diving on a wreck    M  NaN   \n",
       "6125                                 NaN    M  NaN   \n",
       "6146                             Fishing    M  NaN   \n",
       "\n",
       "                                                 Injury Fatal (Y/N)   Time  \\\n",
       "5749  Shark attacked boat, shark killed & towed to s...           N    NaN   \n",
       "4620                                              FATAL           Y    NaN   \n",
       "1834                             Both arms & leg bitten           N  17h00   \n",
       "2051  Right forearm severed surgically amputated abo...           N  06h45   \n",
       "5811                                              FATAL           Y    NaN   \n",
       "...                                                 ...         ...    ...   \n",
       "2686                                     Forearm bitten           N  10h45   \n",
       "3496  Head, shoulder, arm lacerated. Recorded as PRO...           N    NaN   \n",
       "5514                                         Leg bitten     Unknown    NaN   \n",
       "6125                Shark scavenged on the dead sailors     Unknown    NaN   \n",
       "6146                                              FATAL           Y    NaN   \n",
       "\n",
       "                                               Species     nueva  \n",
       "5749  Shark was said to Âhave a very rough Â½Â-thi...   Others  \n",
       "4620                                                NaN   Others  \n",
       "1834                                                NaN  Alabama  \n",
       "2051                                         Bull shark  Alabama  \n",
       "5811                                                NaN  Alabama  \n",
       "...                                                 ...      ...  \n",
       "2686                                        White shark   Others  \n",
       "3496                                                NaN   Others  \n",
       "5514                                       Questionable   Others  \n",
       "6125                                                NaN   Others  \n",
       "6146                                                NaN   Others  \n",
       "\n",
       "[2229 rows x 14 columns]"
      ]
     },
     "execution_count": 19,
     "metadata": {},
     "output_type": "execute_result"
    }
   ],
   "source": [
    "df2us =pd.read_csv(\"data/hawaii.csv\", encoding = \"ISO-8859-1\",index_col =0)\n",
    "df2us"
   ]
  },
  {
   "cell_type": "code",
   "execution_count": 20,
   "id": "255158d5",
   "metadata": {},
   "outputs": [
    {
     "data": {
      "text/plain": [
       "Florida           1037\n",
       "Hawaii             298\n",
       "California         290\n",
       "South Carolina     159\n",
       "North Carolina     101\n",
       "Texas               73\n",
       "Others              69\n",
       "New Jersey          52\n",
       "New York            30\n",
       "Oregon              29\n",
       "Virginia            19\n",
       "Massachusetts       16\n",
       "Puerto Rico         16\n",
       "Alabama             15\n",
       "Georgia             14\n",
       "Louisiana           11\n",
       "Name: nueva, dtype: int64"
      ]
     },
     "execution_count": 20,
     "metadata": {},
     "output_type": "execute_result"
    }
   ],
   "source": [
    "df2us[\"nueva\"].value_counts()"
   ]
  },
  {
   "cell_type": "code",
   "execution_count": 21,
   "id": "db17bf0d",
   "metadata": {},
   "outputs": [
    {
     "data": {
      "text/plain": [
       "[Text(0, 0, 'Others'),\n",
       " Text(1, 0, 'Alabama'),\n",
       " Text(2, 0, 'California'),\n",
       " Text(3, 0, 'Florida'),\n",
       " Text(4, 0, 'Georgia'),\n",
       " Text(5, 0, 'Hawaii'),\n",
       " Text(6, 0, 'Louisiana'),\n",
       " Text(7, 0, 'Massachusetts'),\n",
       " Text(8, 0, 'New Jersey'),\n",
       " Text(9, 0, 'New York'),\n",
       " Text(10, 0, 'North Carolina'),\n",
       " Text(11, 0, 'Oregon'),\n",
       " Text(12, 0, 'Puerto Rico'),\n",
       " Text(13, 0, 'South Carolina'),\n",
       " Text(14, 0, 'Texas'),\n",
       " Text(15, 0, 'Virginia')]"
      ]
     },
     "execution_count": 21,
     "metadata": {},
     "output_type": "execute_result"
    },
    {
     "data": {
      "image/png": "[encoded data removed]",
      "text/plain": [
       "<Figure size 864x432 with 1 Axes>"
      ]
     },
     "metadata": {},
     "output_type": "display_data"
    }
   ],
   "source": [
    "chart = sns.countplot(x=df2us.nueva,palette=\"mako\")\n",
    "chart.set_xticklabels(\n",
    "    chart.get_xticklabels(), \n",
    "    rotation=45, \n",
    "    horizontalalignment='right',\n",
    "    fontweight='light')"
   ]
  },
  {
   "cell_type": "markdown",
   "id": "f5bdd186",
   "metadata": {},
   "source": [
    "\n",
    "Here we can see that my hypothese is incorrect. Florida is the Area in the US with the most shark attacks, followed by\n",
    "Hawaii\n"
   ]
  }
 ],
 "metadata": {
  "kernelspec": {
   "display_name": "Python 3 (ipykernel)",
   "language": "python",
   "name": "python3"
  },
  "language_info": {
   "codemirror_mode": {
    "name": "ipython",
    "version": 3
   },
   "file_extension": ".py",
   "mimetype": "text/x-python",
   "name": "python",
   "nbconvert_exporter": "python",
   "pygments_lexer": "ipython3",
   "version": "3.8.10"
  }
 },
 "nbformat": 4,
 "nbformat_minor": 5
}
